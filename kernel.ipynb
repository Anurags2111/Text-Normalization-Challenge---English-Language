{
  "cells": [
    {
      "metadata": {
        "_uuid": "8f2839f25d086af736a60e9eeb907d3b93b6e0e5",
        "_cell_guid": "b1076dfc-b9ad-4769-8c92-a6c4dae69d19",
        "trusted": true
      },
      "cell_type": "code",
      "source": "# This Python 3 environment comes with many helpful analytics libraries installed\n# It is defined by the kaggle/python docker image: https://github.com/kaggle/docker-python\n# For example, here's several helpful packages to load in \n\nimport numpy as np # linear algebra\nimport pandas as pd # data processing, CSV file I/O (e.g. pd.read_csv)\n\n# Input data files are available in the \"../input/\" directory.\n# For example, running this (by clicking run or pressing Shift+Enter) will list the files in the input directory\n\nimport os\nprint(os.listdir(\"../input\"))\n\n# Any results you write to the current directory are saved as output.",
      "execution_count": 1,
      "outputs": [
        {
          "output_type": "stream",
          "text": "['en_test_2.csv', 'en_test.csv', 'en_sample_submission.csv', 'en_train.csv', 'en_sample_submission_2.csv']\n",
          "name": "stdout"
        }
      ]
    },
    {
      "metadata": {
        "trusted": true,
        "_uuid": "c174439b780617aac8012c5db301902e47bf73e0"
      },
      "cell_type": "code",
      "source": "import seaborn as sns\nfrom matplotlib import pyplot as plt",
      "execution_count": 2,
      "outputs": []
    },
    {
      "metadata": {
        "_cell_guid": "79c7e3d0-c299-4dcb-8224-4455121ee9b0",
        "_uuid": "d629ff2d2480ee46fbb7e2d37f6b5fab8052498a",
        "trusted": true
      },
      "cell_type": "code",
      "source": "training_data = pd.read_csv(\"../input/en_train.csv\")",
      "execution_count": 3,
      "outputs": []
    },
    {
      "metadata": {
        "trusted": true,
        "_uuid": "1190d3856d6e3edd34e60e1e2a169a2aa1e95f78"
      },
      "cell_type": "code",
      "source": "max_num_features = 10\nspace_letter = 0\nspace_padded_tokens = []",
      "execution_count": 4,
      "outputs": []
    },
    {
      "metadata": {
        "trusted": true,
        "_uuid": "389a0991a3ca6f7be0b783fadcb9e7d1bf631e0b"
      },
      "cell_type": "code",
      "source": "max_data_size = len(training_data)\ntraining_data['class'].unique()",
      "execution_count": 5,
      "outputs": [
        {
          "output_type": "execute_result",
          "execution_count": 5,
          "data": {
            "text/plain": "array(['PLAIN', 'PUNCT', 'DATE', 'LETTERS', 'CARDINAL', 'VERBATIM',\n       'DECIMAL', 'MEASURE', 'MONEY', 'ORDINAL', 'TIME', 'ELECTRONIC',\n       'DIGIT', 'FRACTION', 'TELEPHONE', 'ADDRESS'], dtype=object)"
          },
          "metadata": {}
        }
      ]
    },
    {
      "metadata": {
        "trusted": true,
        "_uuid": "9d7c4a9087fb19c04a4585c5661be853efab0ca0"
      },
      "cell_type": "code",
      "source": "test_dataset = pd.read_csv(\"../input/en_test.csv\")",
      "execution_count": 6,
      "outputs": []
    },
    {
      "metadata": {
        "trusted": true,
        "_uuid": "215c6c8ab0d4b8de3664b59f623730a5ab496019"
      },
      "cell_type": "code",
      "source": "training_data.head()",
      "execution_count": 7,
      "outputs": [
        {
          "output_type": "execute_result",
          "execution_count": 7,
          "data": {
            "text/plain": "   sentence_id  token_id  class         before          after\n0            0         0  PLAIN  Brillantaisia  Brillantaisia\n1            0         1  PLAIN             is             is\n2            0         2  PLAIN              a              a\n3            0         3  PLAIN          genus          genus\n4            0         4  PLAIN             of             of",
            "text/html": "<div>\n<style scoped>\n    .dataframe tbody tr th:only-of-type {\n        vertical-align: middle;\n    }\n\n    .dataframe tbody tr th {\n        vertical-align: top;\n    }\n\n    .dataframe thead th {\n        text-align: right;\n    }\n</style>\n<table border=\"1\" class=\"dataframe\">\n  <thead>\n    <tr style=\"text-align: right;\">\n      <th></th>\n      <th>sentence_id</th>\n      <th>token_id</th>\n      <th>class</th>\n      <th>before</th>\n      <th>after</th>\n    </tr>\n  </thead>\n  <tbody>\n    <tr>\n      <th>0</th>\n      <td>0</td>\n      <td>0</td>\n      <td>PLAIN</td>\n      <td>Brillantaisia</td>\n      <td>Brillantaisia</td>\n    </tr>\n    <tr>\n      <th>1</th>\n      <td>0</td>\n      <td>1</td>\n      <td>PLAIN</td>\n      <td>is</td>\n      <td>is</td>\n    </tr>\n    <tr>\n      <th>2</th>\n      <td>0</td>\n      <td>2</td>\n      <td>PLAIN</td>\n      <td>a</td>\n      <td>a</td>\n    </tr>\n    <tr>\n      <th>3</th>\n      <td>0</td>\n      <td>3</td>\n      <td>PLAIN</td>\n      <td>genus</td>\n      <td>genus</td>\n    </tr>\n    <tr>\n      <th>4</th>\n      <td>0</td>\n      <td>4</td>\n      <td>PLAIN</td>\n      <td>of</td>\n      <td>of</td>\n    </tr>\n  </tbody>\n</table>\n</div>"
          },
          "metadata": {}
        }
      ]
    },
    {
      "metadata": {
        "trusted": true,
        "_uuid": "35c0f4d6b9c719344960819dce04c0fd8ebf5995"
      },
      "cell_type": "code",
      "source": "training_data.info()",
      "execution_count": 8,
      "outputs": [
        {
          "output_type": "stream",
          "text": "<class 'pandas.core.frame.DataFrame'>\nRangeIndex: 9918441 entries, 0 to 9918440\nData columns (total 5 columns):\nsentence_id    int64\ntoken_id       int64\nclass          object\nbefore         object\nafter          object\ndtypes: int64(2), object(3)\nmemory usage: 378.4+ MB\n",
          "name": "stdout"
        }
      ]
    },
    {
      "metadata": {
        "trusted": true,
        "_uuid": "468cc4513aab1311bc4f88ccbba09e721126ceff"
      },
      "cell_type": "code",
      "source": "test_dataset.head()",
      "execution_count": 9,
      "outputs": [
        {
          "output_type": "execute_result",
          "execution_count": 9,
          "data": {
            "text/plain": "   sentence_id  token_id     before\n0            0         0    Another\n1            0         1  religious\n2            0         2     family\n3            0         3         is\n4            0         4         of",
            "text/html": "<div>\n<style scoped>\n    .dataframe tbody tr th:only-of-type {\n        vertical-align: middle;\n    }\n\n    .dataframe tbody tr th {\n        vertical-align: top;\n    }\n\n    .dataframe thead th {\n        text-align: right;\n    }\n</style>\n<table border=\"1\" class=\"dataframe\">\n  <thead>\n    <tr style=\"text-align: right;\">\n      <th></th>\n      <th>sentence_id</th>\n      <th>token_id</th>\n      <th>before</th>\n    </tr>\n  </thead>\n  <tbody>\n    <tr>\n      <th>0</th>\n      <td>0</td>\n      <td>0</td>\n      <td>Another</td>\n    </tr>\n    <tr>\n      <th>1</th>\n      <td>0</td>\n      <td>1</td>\n      <td>religious</td>\n    </tr>\n    <tr>\n      <th>2</th>\n      <td>0</td>\n      <td>2</td>\n      <td>family</td>\n    </tr>\n    <tr>\n      <th>3</th>\n      <td>0</td>\n      <td>3</td>\n      <td>is</td>\n    </tr>\n    <tr>\n      <th>4</th>\n      <td>0</td>\n      <td>4</td>\n      <td>of</td>\n    </tr>\n  </tbody>\n</table>\n</div>"
          },
          "metadata": {}
        }
      ]
    },
    {
      "metadata": {
        "trusted": true,
        "_uuid": "e27e775924c6d54a6ba179617abfdb6d5cbbfc74"
      },
      "cell_type": "code",
      "source": "test_dataset.info()",
      "execution_count": 10,
      "outputs": [
        {
          "output_type": "stream",
          "text": "<class 'pandas.core.frame.DataFrame'>\nRangeIndex: 1088564 entries, 0 to 1088563\nData columns (total 3 columns):\nsentence_id    1088564 non-null int64\ntoken_id       1088564 non-null int64\nbefore         1088551 non-null object\ndtypes: int64(2), object(1)\nmemory usage: 24.9+ MB\n",
          "name": "stdout"
        }
      ]
    },
    {
      "metadata": {
        "trusted": true,
        "_uuid": "007de74e14e3d3cad9cdfbb79253f9feaf1f4a95"
      },
      "cell_type": "code",
      "source": "fig = plt.figure(figsize=(16,6))\nsns.countplot(x='class',data = training_data)",
      "execution_count": 11,
      "outputs": [
        {
          "output_type": "execute_result",
          "execution_count": 11,
          "data": {
            "text/plain": "<matplotlib.axes._subplots.AxesSubplot at 0x7f13de678278>"
          },
          "metadata": {}
        },
        {
          "output_type": "display_data",
          "data": {
            "text/plain": "<Figure size 1152x432 with 1 Axes>",
            "image/png": "[encoded data removed]"
          },
          "metadata": {}
        }
      ]
    },
    {
      "metadata": {
        "trusted": true,
        "_uuid": "07bdf88348e806797fce3de8456a3187719210f3"
      },
      "cell_type": "code",
      "source": "training_data['class'].value_counts().sort_values(ascending = False)",
      "execution_count": 12,
      "outputs": [
        {
          "output_type": "execute_result",
          "execution_count": 12,
          "data": {
            "text/plain": "PLAIN         7353693\nPUNCT         1880507\nDATE           258348\nLETTERS        152795\nCARDINAL       133744\nVERBATIM        78108\nMEASURE         14783\nORDINAL         12703\nDECIMAL          9821\nMONEY            6128\nDIGIT            5442\nELECTRONIC       5162\nTELEPHONE        4024\nTIME             1465\nFRACTION         1196\nADDRESS           522\nName: class, dtype: int64"
          },
          "metadata": {}
        }
      ]
    },
    {
      "metadata": {
        "trusted": true,
        "_uuid": "9f8d10b61595adf5bde94766ebd0dcdeedbe0130"
      },
      "cell_type": "code",
      "source": "training_data.isnull().any()",
      "execution_count": 13,
      "outputs": [
        {
          "output_type": "execute_result",
          "execution_count": 13,
          "data": {
            "text/plain": "sentence_id    False\ntoken_id       False\nclass          False\nbefore          True\nafter           True\ndtype: bool"
          },
          "metadata": {}
        }
      ]
    },
    {
      "metadata": {
        "trusted": true,
        "_uuid": "dc3d78aa331a8d02578dd81d71a3c79cfd7cf1ac"
      },
      "cell_type": "code",
      "source": "training_data[training_data['class']=='PUNCT'].head()",
      "execution_count": 14,
      "outputs": [
        {
          "output_type": "execute_result",
          "execution_count": 14,
          "data": {
            "text/plain": "    sentence_id  token_id  class before after\n9             0         9  PUNCT      .     .\n17            1         7  PUNCT      .     .\n25            2         7  PUNCT      ,     ,\n28            2        10  PUNCT      ,     ,\n31            2        13  PUNCT      ,     ,",
            "text/html": "<div>\n<style scoped>\n    .dataframe tbody tr th:only-of-type {\n        vertical-align: middle;\n    }\n\n    .dataframe tbody tr th {\n        vertical-align: top;\n    }\n\n    .dataframe thead th {\n        text-align: right;\n    }\n</style>\n<table border=\"1\" class=\"dataframe\">\n  <thead>\n    <tr style=\"text-align: right;\">\n      <th></th>\n      <th>sentence_id</th>\n      <th>token_id</th>\n      <th>class</th>\n      <th>before</th>\n      <th>after</th>\n    </tr>\n  </thead>\n  <tbody>\n    <tr>\n      <th>9</th>\n      <td>0</td>\n      <td>9</td>\n      <td>PUNCT</td>\n      <td>.</td>\n      <td>.</td>\n    </tr>\n    <tr>\n      <th>17</th>\n      <td>1</td>\n      <td>7</td>\n      <td>PUNCT</td>\n      <td>.</td>\n      <td>.</td>\n    </tr>\n    <tr>\n      <th>25</th>\n      <td>2</td>\n      <td>7</td>\n      <td>PUNCT</td>\n      <td>,</td>\n      <td>,</td>\n    </tr>\n    <tr>\n      <th>28</th>\n      <td>2</td>\n      <td>10</td>\n      <td>PUNCT</td>\n      <td>,</td>\n      <td>,</td>\n    </tr>\n    <tr>\n      <th>31</th>\n      <td>2</td>\n      <td>13</td>\n      <td>PUNCT</td>\n      <td>,</td>\n      <td>,</td>\n    </tr>\n  </tbody>\n</table>\n</div>"
          },
          "metadata": {}
        }
      ]
    },
    {
      "metadata": {
        "trusted": true,
        "_uuid": "aa98bd66f4b726f7e5c395b60618f28b31cf23ea"
      },
      "cell_type": "code",
      "source": "training_data[training_data['class']=='DATE'].head()",
      "execution_count": 15,
      "outputs": [
        {
          "output_type": "execute_result",
          "execution_count": 15,
          "data": {
            "text/plain": "     sentence_id                 ...                                                 after\n10             1                 ...                                      two thousand six\n51             3                 ...                                    two thousand seven\n80             5                 ...                                    two thousand eight\n111            8                 ...                   the fourth of march twenty fourteen\n147           11                 ...                           april tenth twenty thirteen\n\n[5 rows x 5 columns]",
            "text/html": "<div>\n<style scoped>\n    .dataframe tbody tr th:only-of-type {\n        vertical-align: middle;\n    }\n\n    .dataframe tbody tr th {\n        vertical-align: top;\n    }\n\n    .dataframe thead th {\n        text-align: right;\n    }\n</style>\n<table border=\"1\" class=\"dataframe\">\n  <thead>\n    <tr style=\"text-align: right;\">\n      <th></th>\n      <th>sentence_id</th>\n      <th>token_id</th>\n      <th>class</th>\n      <th>before</th>\n      <th>after</th>\n    </tr>\n  </thead>\n  <tbody>\n    <tr>\n      <th>10</th>\n      <td>1</td>\n      <td>0</td>\n      <td>DATE</td>\n      <td>2006</td>\n      <td>two thousand six</td>\n    </tr>\n    <tr>\n      <th>51</th>\n      <td>3</td>\n      <td>7</td>\n      <td>DATE</td>\n      <td>2007</td>\n      <td>two thousand seven</td>\n    </tr>\n    <tr>\n      <th>80</th>\n      <td>5</td>\n      <td>0</td>\n      <td>DATE</td>\n      <td>2008</td>\n      <td>two thousand eight</td>\n    </tr>\n    <tr>\n      <th>111</th>\n      <td>8</td>\n      <td>1</td>\n      <td>DATE</td>\n      <td>4 March 2014</td>\n      <td>the fourth of march twenty fourteen</td>\n    </tr>\n    <tr>\n      <th>147</th>\n      <td>11</td>\n      <td>1</td>\n      <td>DATE</td>\n      <td>April 10, 2013</td>\n      <td>april tenth twenty thirteen</td>\n    </tr>\n  </tbody>\n</table>\n</div>"
          },
          "metadata": {}
        }
      ]
    },
    {
      "metadata": {
        "trusted": true,
        "_uuid": "90e89906d9967a0df9597ed24de057675a515d1f"
      },
      "cell_type": "code",
      "source": "training_data[training_data['class']=='LETTERS'].head()",
      "execution_count": 16,
      "outputs": [
        {
          "output_type": "execute_result",
          "execution_count": 16,
          "data": {
            "text/plain": "     sentence_id  token_id    class before    after\n11             1         1  LETTERS   IUCN  i u c n\n115            9         2  LETTERS     BC      b c\n159           14         2  LETTERS   ALCS  a l c s\n201           18         2  LETTERS     C.        c\n205           18         6  LETTERS     J.        j",
            "text/html": "<div>\n<style scoped>\n    .dataframe tbody tr th:only-of-type {\n        vertical-align: middle;\n    }\n\n    .dataframe tbody tr th {\n        vertical-align: top;\n    }\n\n    .dataframe thead th {\n        text-align: right;\n    }\n</style>\n<table border=\"1\" class=\"dataframe\">\n  <thead>\n    <tr style=\"text-align: right;\">\n      <th></th>\n      <th>sentence_id</th>\n      <th>token_id</th>\n      <th>class</th>\n      <th>before</th>\n      <th>after</th>\n    </tr>\n  </thead>\n  <tbody>\n    <tr>\n      <th>11</th>\n      <td>1</td>\n      <td>1</td>\n      <td>LETTERS</td>\n      <td>IUCN</td>\n      <td>i u c n</td>\n    </tr>\n    <tr>\n      <th>115</th>\n      <td>9</td>\n      <td>2</td>\n      <td>LETTERS</td>\n      <td>BC</td>\n      <td>b c</td>\n    </tr>\n    <tr>\n      <th>159</th>\n      <td>14</td>\n      <td>2</td>\n      <td>LETTERS</td>\n      <td>ALCS</td>\n      <td>a l c s</td>\n    </tr>\n    <tr>\n      <th>201</th>\n      <td>18</td>\n      <td>2</td>\n      <td>LETTERS</td>\n      <td>C.</td>\n      <td>c</td>\n    </tr>\n    <tr>\n      <th>205</th>\n      <td>18</td>\n      <td>6</td>\n      <td>LETTERS</td>\n      <td>J.</td>\n      <td>j</td>\n    </tr>\n  </tbody>\n</table>\n</div>"
          },
          "metadata": {}
        }
      ]
    },
    {
      "metadata": {
        "trusted": true,
        "_uuid": "d42dbcc0edf2d3bf1836d6147a7c6b2dec538321"
      },
      "cell_type": "code",
      "source": "num_train_sent = len(training_data.sentence_id.unique())\nnum_train_sent",
      "execution_count": 17,
      "outputs": [
        {
          "output_type": "execute_result",
          "execution_count": 17,
          "data": {
            "text/plain": "748066"
          },
          "metadata": {}
        }
      ]
    },
    {
      "metadata": {
        "trusted": true,
        "_uuid": "e6f76d132986abf8f02e78a334e2b45263c7338e"
      },
      "cell_type": "code",
      "source": "train_sent = training_data.groupby(\"sentence_id\")[\"sentence_id\"].count()\ntrain_sent.describe()",
      "execution_count": null,
      "outputs": []
    },
    {
      "metadata": {
        "trusted": true,
        "_uuid": "8eb2e15069b77bfa51642d718c13f39be85b80eb"
      },
      "cell_type": "code",
      "source": "",
      "execution_count": null,
      "outputs": []
    },
    {
      "metadata": {
        "trusted": true,
        "_uuid": "8217f94ee2530b5967d16f2fd986d3bef8f4c43b"
      },
      "cell_type": "code",
      "source": "",
      "execution_count": null,
      "outputs": []
    },
    {
      "metadata": {
        "trusted": true,
        "_uuid": "54f36a94445a8a5e58ec252e75fa448fd58ce074"
      },
      "cell_type": "code",
      "source": "",
      "execution_count": null,
      "outputs": []
    },
    {
      "metadata": {
        "trusted": true,
        "_uuid": "2813fcc5765a7b34b1c69cf8149c98da1c04f469"
      },
      "cell_type": "code",
      "source": "",
      "execution_count": null,
      "outputs": []
    },
    {
      "metadata": {
        "trusted": true,
        "_uuid": "84779404aaa134523138c7ec83506c07dea3320c"
      },
      "cell_type": "code",
      "source": "",
      "execution_count": null,
      "outputs": []
    },
    {
      "metadata": {
        "trusted": true,
        "_uuid": "b0b6c7e03c39dbeb3347052af21f003bc43d2b10"
      },
      "cell_type": "code",
      "source": "",
      "execution_count": null,
      "outputs": []
    },
    {
      "metadata": {
        "trusted": true,
        "_uuid": "c2765aa4ccbf17ad7a72d6b090e1f8d7edace16b"
      },
      "cell_type": "code",
      "source": "",
      "execution_count": null,
      "outputs": []
    },
    {
      "metadata": {
        "trusted": true,
        "_uuid": "dc472c3a0ce0c8ae5c52892d77d355351eeed142"
      },
      "cell_type": "code",
      "source": "",
      "execution_count": null,
      "outputs": []
    },
    {
      "metadata": {
        "trusted": true,
        "_uuid": "f87397d04a9278dfea98c4708ed72f8ce9aae36e"
      },
      "cell_type": "code",
      "source": "",
      "execution_count": null,
      "outputs": []
    }
  ],
  "metadata": {
    "kernelspec": {
      "display_name": "Python 3",
      "language": "python",
      "name": "python3"
    },
    "language_info": {
      "name": "python",
      "version": "3.6.6",
      "mimetype": "text/x-python",
      "codemirror_mode": {
        "name": "ipython",
        "version": 3
      },
      "pygments_lexer": "ipython3",
      "nbconvert_exporter": "python",
      "file_extension": ".py"
    }
  },
  "nbformat": 4,
  "nbformat_minor": 1
}